{
 "cells": [
  {
   "cell_type": "markdown",
   "metadata": {},
   "source": [
    "# Adult Income Analysis"
   ]
  },
  {
   "cell_type": "markdown",
   "metadata": {},
   "source": [
    "## Part 1: Load and Inspect the Data"
   ]
  },
  {
   "cell_type": "code",
   "execution_count": 2,
   "metadata": {},
   "outputs": [],
   "source": [
    "# Import necessary libraries\n",
    "\n",
    "import pandas as pd\n",
    "import numpy as np"
   ]
  },
  {
   "cell_type": "code",
   "execution_count": 3,
   "metadata": {},
   "outputs": [
    {
     "data": {
      "text/html": [
       "<div>\n",
       "<style scoped>\n",
       "    .dataframe tbody tr th:only-of-type {\n",
       "        vertical-align: middle;\n",
       "    }\n",
       "\n",
       "    .dataframe tbody tr th {\n",
       "        vertical-align: top;\n",
       "    }\n",
       "\n",
       "    .dataframe thead th {\n",
       "        text-align: right;\n",
       "    }\n",
       "</style>\n",
       "<table border=\"1\" class=\"dataframe\">\n",
       "  <thead>\n",
       "    <tr style=\"text-align: right;\">\n",
       "      <th></th>\n",
       "      <th>age</th>\n",
       "      <th>workclass</th>\n",
       "      <th>fnlwgt</th>\n",
       "      <th>education</th>\n",
       "      <th>educational-num</th>\n",
       "      <th>marital-status</th>\n",
       "      <th>occupation</th>\n",
       "      <th>relationship</th>\n",
       "      <th>race</th>\n",
       "      <th>gender</th>\n",
       "      <th>capital-gain</th>\n",
       "      <th>capital-loss</th>\n",
       "      <th>hours-per-week</th>\n",
       "      <th>native-country</th>\n",
       "      <th>income</th>\n",
       "    </tr>\n",
       "  </thead>\n",
       "  <tbody>\n",
       "    <tr>\n",
       "      <th>0</th>\n",
       "      <td>25</td>\n",
       "      <td>Private</td>\n",
       "      <td>226802</td>\n",
       "      <td>11th</td>\n",
       "      <td>7</td>\n",
       "      <td>Never-married</td>\n",
       "      <td>Machine-op-inspct</td>\n",
       "      <td>Own-child</td>\n",
       "      <td>Black</td>\n",
       "      <td>Male</td>\n",
       "      <td>0</td>\n",
       "      <td>0</td>\n",
       "      <td>40</td>\n",
       "      <td>United-States</td>\n",
       "      <td>&lt;=50K</td>\n",
       "    </tr>\n",
       "    <tr>\n",
       "      <th>1</th>\n",
       "      <td>38</td>\n",
       "      <td>Private</td>\n",
       "      <td>89814</td>\n",
       "      <td>HS-grad</td>\n",
       "      <td>9</td>\n",
       "      <td>Married-civ-spouse</td>\n",
       "      <td>Farming-fishing</td>\n",
       "      <td>Husband</td>\n",
       "      <td>White</td>\n",
       "      <td>Male</td>\n",
       "      <td>0</td>\n",
       "      <td>0</td>\n",
       "      <td>50</td>\n",
       "      <td>United-States</td>\n",
       "      <td>&lt;=50K</td>\n",
       "    </tr>\n",
       "    <tr>\n",
       "      <th>2</th>\n",
       "      <td>28</td>\n",
       "      <td>Local-gov</td>\n",
       "      <td>336951</td>\n",
       "      <td>Assoc-acdm</td>\n",
       "      <td>12</td>\n",
       "      <td>Married-civ-spouse</td>\n",
       "      <td>Protective-serv</td>\n",
       "      <td>Husband</td>\n",
       "      <td>White</td>\n",
       "      <td>Male</td>\n",
       "      <td>0</td>\n",
       "      <td>0</td>\n",
       "      <td>40</td>\n",
       "      <td>United-States</td>\n",
       "      <td>&gt;50K</td>\n",
       "    </tr>\n",
       "    <tr>\n",
       "      <th>3</th>\n",
       "      <td>44</td>\n",
       "      <td>Private</td>\n",
       "      <td>160323</td>\n",
       "      <td>Some-college</td>\n",
       "      <td>10</td>\n",
       "      <td>Married-civ-spouse</td>\n",
       "      <td>Machine-op-inspct</td>\n",
       "      <td>Husband</td>\n",
       "      <td>Black</td>\n",
       "      <td>Male</td>\n",
       "      <td>7688</td>\n",
       "      <td>0</td>\n",
       "      <td>40</td>\n",
       "      <td>United-States</td>\n",
       "      <td>&gt;50K</td>\n",
       "    </tr>\n",
       "    <tr>\n",
       "      <th>4</th>\n",
       "      <td>18</td>\n",
       "      <td>?</td>\n",
       "      <td>103497</td>\n",
       "      <td>Some-college</td>\n",
       "      <td>10</td>\n",
       "      <td>Never-married</td>\n",
       "      <td>?</td>\n",
       "      <td>Own-child</td>\n",
       "      <td>White</td>\n",
       "      <td>Female</td>\n",
       "      <td>0</td>\n",
       "      <td>0</td>\n",
       "      <td>30</td>\n",
       "      <td>United-States</td>\n",
       "      <td>&lt;=50K</td>\n",
       "    </tr>\n",
       "  </tbody>\n",
       "</table>\n",
       "</div>"
      ],
      "text/plain": [
       "   age  workclass  fnlwgt     education  educational-num      marital-status  \\\n",
       "0   25    Private  226802          11th                7       Never-married   \n",
       "1   38    Private   89814       HS-grad                9  Married-civ-spouse   \n",
       "2   28  Local-gov  336951    Assoc-acdm               12  Married-civ-spouse   \n",
       "3   44    Private  160323  Some-college               10  Married-civ-spouse   \n",
       "4   18          ?  103497  Some-college               10       Never-married   \n",
       "\n",
       "          occupation relationship   race  gender  capital-gain  capital-loss  \\\n",
       "0  Machine-op-inspct    Own-child  Black    Male             0             0   \n",
       "1    Farming-fishing      Husband  White    Male             0             0   \n",
       "2    Protective-serv      Husband  White    Male             0             0   \n",
       "3  Machine-op-inspct      Husband  Black    Male          7688             0   \n",
       "4                  ?    Own-child  White  Female             0             0   \n",
       "\n",
       "   hours-per-week native-country income  \n",
       "0              40  United-States  <=50K  \n",
       "1              50  United-States  <=50K  \n",
       "2              40  United-States   >50K  \n",
       "3              40  United-States   >50K  \n",
       "4              30  United-States  <=50K  "
      ]
     },
     "execution_count": 3,
     "metadata": {},
     "output_type": "execute_result"
    }
   ],
   "source": [
    "adult_income = pd.read_csv(r'/Users/andressotelo/Documents/Datasets/adult.csv')\n",
    "adult_income.head()"
   ]
  },
  {
   "cell_type": "code",
   "execution_count": 4,
   "metadata": {},
   "outputs": [
    {
     "name": "stdout",
     "output_type": "stream",
     "text": [
      "<class 'pandas.core.frame.DataFrame'>\n",
      "RangeIndex: 48842 entries, 0 to 48841\n",
      "Data columns (total 15 columns):\n",
      "age                48842 non-null int64\n",
      "workclass          48842 non-null object\n",
      "fnlwgt             48842 non-null int64\n",
      "education          48842 non-null object\n",
      "educational-num    48842 non-null int64\n",
      "marital-status     48842 non-null object\n",
      "occupation         48842 non-null object\n",
      "relationship       48842 non-null object\n",
      "race               48842 non-null object\n",
      "gender             48842 non-null object\n",
      "capital-gain       48842 non-null int64\n",
      "capital-loss       48842 non-null int64\n",
      "hours-per-week     48842 non-null int64\n",
      "native-country     48842 non-null object\n",
      "income             48842 non-null object\n",
      "dtypes: int64(6), object(9)\n",
      "memory usage: 5.6+ MB\n"
     ]
    },
    {
     "data": {
      "text/plain": [
       "(48842, 15)"
      ]
     },
     "execution_count": 4,
     "metadata": {},
     "output_type": "execute_result"
    }
   ],
   "source": [
    "# Let's investigate if there's missing values and the type of columns\n",
    "\n",
    "adult_income.info()\n",
    "adult_income.shape"
   ]
  },
  {
   "cell_type": "markdown",
   "metadata": {},
   "source": [
    "#### Let's remove some characters from the column names. Let's work with a clean and clear dataset."
   ]
  },
  {
   "cell_type": "code",
   "execution_count": 5,
   "metadata": {},
   "outputs": [
    {
     "data": {
      "text/plain": [
       "Index(['age', 'workclass', 'fnlwgt', 'education', 'educational num',\n",
       "       'marital status', 'occupation', 'relationship', 'race', 'gender',\n",
       "       'capital gain', 'capital loss', 'hours per week', 'country', 'income'],\n",
       "      dtype='object')"
      ]
     },
     "execution_count": 5,
     "metadata": {},
     "output_type": "execute_result"
    }
   ],
   "source": [
    "adult_income.rename(columns = {'educational-num':'educational num', 'marital-status':'marital status', \n",
    "                               'capital-gain':'capital gain', 'capital-loss':'capital loss', \n",
    "                               'hours-per-week':'hours per week', 'native-country':'country'},\n",
    "                    inplace = True)\n",
    "adult_income.columns"
   ]
  },
  {
   "cell_type": "markdown",
   "metadata": {},
   "source": [
    "#### Earlier, when we examined the first 5 rows of the dataset, there were a couple of '?' in the data. Let's investigate further and clean it up."
   ]
  },
  {
   "cell_type": "code",
   "execution_count": 6,
   "metadata": {},
   "outputs": [
    {
     "data": {
      "text/plain": [
       "age                   0\n",
       "workclass          2799\n",
       "fnlwgt                0\n",
       "education             0\n",
       "educational num       0\n",
       "marital status        0\n",
       "occupation         2809\n",
       "relationship          0\n",
       "race                  0\n",
       "gender                0\n",
       "capital gain          0\n",
       "capital loss          0\n",
       "hours per week        0\n",
       "country             857\n",
       "income                0\n",
       "dtype: int64"
      ]
     },
     "execution_count": 6,
     "metadata": {},
     "output_type": "execute_result"
    }
   ],
   "source": [
    "adult_income.isin(['?']).sum(axis = 0)"
   ]
  },
  {
   "cell_type": "code",
   "execution_count": 7,
   "metadata": {},
   "outputs": [
    {
     "data": {
      "text/plain": [
       "(45222, 15)"
      ]
     },
     "execution_count": 7,
     "metadata": {},
     "output_type": "execute_result"
    }
   ],
   "source": [
    "# Code below will replace ? with 'nan' values, then drop those rows.\n",
    "\n",
    "adult_income['workclass'] = adult_income['workclass'].replace('?', np.nan)\n",
    "adult_income['occupation'] = adult_income['occupation'].replace('?', np.nan)\n",
    "adult_income['country'] = adult_income['country'].replace('?', np.nan)\n",
    "adult_income.dropna(how = 'any', inplace = True)\n",
    "adult_income.shape"
   ]
  },
  {
   "cell_type": "code",
   "execution_count": 8,
   "metadata": {},
   "outputs": [
    {
     "name": "stdout",
     "output_type": "stream",
     "text": [
      "---- age---\n",
      "36    1283\n",
      "33    1279\n",
      "31    1274\n",
      "35    1272\n",
      "23    1241\n",
      "34    1234\n",
      "37    1229\n",
      "30    1215\n",
      "38    1211\n",
      "28    1198\n",
      "32    1196\n",
      "41    1174\n",
      "39    1169\n",
      "27    1157\n",
      "29    1157\n",
      "40    1144\n",
      "25    1133\n",
      "24    1130\n",
      "42    1113\n",
      "26    1092\n",
      "43    1065\n",
      "46    1062\n",
      "45    1049\n",
      "47    1038\n",
      "44    1035\n",
      "22    1034\n",
      "21     935\n",
      "20     916\n",
      "19     864\n",
      "51     835\n",
      "      ... \n",
      "61     394\n",
      "62     328\n",
      "64     285\n",
      "63     280\n",
      "65     217\n",
      "66     180\n",
      "67     180\n",
      "68     136\n",
      "69     116\n",
      "70      96\n",
      "71      90\n",
      "72      83\n",
      "73      82\n",
      "74      59\n",
      "75      53\n",
      "76      46\n",
      "90      46\n",
      "77      39\n",
      "80      29\n",
      "81      27\n",
      "78      21\n",
      "79      20\n",
      "82      10\n",
      "83       9\n",
      "84       9\n",
      "85       5\n",
      "88       5\n",
      "86       1\n",
      "87       1\n",
      "89       1\n",
      "Name: age, Length: 74, dtype: int64\n",
      "---- workclass---\n",
      "Private             33307\n",
      "Self-emp-not-inc     3796\n",
      "Local-gov            3100\n",
      "State-gov            1946\n",
      "Self-emp-inc         1646\n",
      "Federal-gov          1406\n",
      "Without-pay            21\n",
      "Name: workclass, dtype: int64\n",
      "---- fnlwgt---\n",
      "203488    21\n",
      "125892    18\n",
      "120277    18\n",
      "113364    17\n",
      "126569    17\n",
      "186934    16\n",
      "190290    16\n",
      "111567    16\n",
      "99185     16\n",
      "126675    15\n",
      "111483    14\n",
      "121124    14\n",
      "117963    14\n",
      "148995    14\n",
      "123011    14\n",
      "136986    14\n",
      "108140    14\n",
      "127651    14\n",
      "194630    14\n",
      "193882    14\n",
      "132879    14\n",
      "96062     13\n",
      "144949    13\n",
      "174789    13\n",
      "97723     13\n",
      "155489    13\n",
      "112115    13\n",
      "177675    13\n",
      "241998    13\n",
      "188246    13\n",
      "          ..\n",
      "106951     1\n",
      "123343     1\n",
      "279763     1\n",
      "350680     1\n",
      "96732      1\n",
      "156127     1\n",
      "426467     1\n",
      "178660     1\n",
      "176613     1\n",
      "135601     1\n",
      "117162     1\n",
      "283033     1\n",
      "250217     1\n",
      "336215     1\n",
      "213339     1\n",
      "158046     1\n",
      "432480     1\n",
      "233825     1\n",
      "166242     1\n",
      "229731     1\n",
      "379242     1\n",
      "592029     1\n",
      "262515     1\n",
      "340341     1\n",
      "205175     1\n",
      "88440      1\n",
      "176517     1\n",
      "194956     1\n",
      "201105     1\n",
      "208174     1\n",
      "Name: fnlwgt, Length: 26741, dtype: int64\n",
      "---- education---\n",
      "HS-grad         14783\n",
      "Some-college     9899\n",
      "Bachelors        7570\n",
      "Masters          2514\n",
      "Assoc-voc        1959\n",
      "11th             1619\n",
      "Assoc-acdm       1507\n",
      "10th             1223\n",
      "7th-8th           823\n",
      "Prof-school       785\n",
      "9th               676\n",
      "12th              577\n",
      "Doctorate         544\n",
      "5th-6th           449\n",
      "1st-4th           222\n",
      "Preschool          72\n",
      "Name: education, dtype: int64\n",
      "---- educational num---\n",
      "9     14783\n",
      "10     9899\n",
      "13     7570\n",
      "14     2514\n",
      "11     1959\n",
      "7      1619\n",
      "12     1507\n",
      "6      1223\n",
      "4       823\n",
      "15      785\n",
      "5       676\n",
      "8       577\n",
      "16      544\n",
      "3       449\n",
      "2       222\n",
      "1        72\n",
      "Name: educational num, dtype: int64\n",
      "---- marital status---\n",
      "Married-civ-spouse       21055\n",
      "Never-married            14598\n",
      "Divorced                  6297\n",
      "Separated                 1411\n",
      "Widowed                   1277\n",
      "Married-spouse-absent      552\n",
      "Married-AF-spouse           32\n",
      "Name: marital status, dtype: int64\n",
      "---- occupation---\n",
      "Craft-repair         6020\n",
      "Prof-specialty       6008\n",
      "Exec-managerial      5984\n",
      "Adm-clerical         5540\n",
      "Sales                5408\n",
      "Other-service        4808\n",
      "Machine-op-inspct    2970\n",
      "Transport-moving     2316\n",
      "Handlers-cleaners    2046\n",
      "Farming-fishing      1480\n",
      "Tech-support         1420\n",
      "Protective-serv       976\n",
      "Priv-house-serv       232\n",
      "Armed-Forces           14\n",
      "Name: occupation, dtype: int64\n",
      "---- relationship---\n",
      "Husband           18666\n",
      "Not-in-family     11702\n",
      "Own-child          6626\n",
      "Unmarried          4788\n",
      "Wife               2091\n",
      "Other-relative     1349\n",
      "Name: relationship, dtype: int64\n",
      "---- race---\n",
      "White                 38903\n",
      "Black                  4228\n",
      "Asian-Pac-Islander     1303\n",
      "Amer-Indian-Eskimo      435\n",
      "Other                   353\n",
      "Name: race, dtype: int64\n",
      "---- gender---\n",
      "Male      30527\n",
      "Female    14695\n",
      "Name: gender, dtype: int64\n",
      "---- capital gain---\n",
      "0        41432\n",
      "15024      498\n",
      "7688       391\n",
      "7298       351\n",
      "99999      229\n",
      "3103       146\n",
      "5178       137\n",
      "5013       116\n",
      "4386       102\n",
      "3325        81\n",
      "8614        78\n",
      "2174        72\n",
      "10520       64\n",
      "4650        62\n",
      "27828       56\n",
      "4064        52\n",
      "3137        50\n",
      "14084       47\n",
      "20051       44\n",
      "594         42\n",
      "3908        41\n",
      "6849        41\n",
      "13550       40\n",
      "2829        40\n",
      "4787        34\n",
      "14344       34\n",
      "1055        31\n",
      "3464        30\n",
      "3411        30\n",
      "2597        29\n",
      "         ...  \n",
      "1424         4\n",
      "6767         4\n",
      "11678        4\n",
      "991          4\n",
      "2538         4\n",
      "25124        4\n",
      "2050         3\n",
      "1455         3\n",
      "7896         3\n",
      "6360         3\n",
      "2936         3\n",
      "2062         3\n",
      "2228         3\n",
      "41310        3\n",
      "18481        2\n",
      "5060         2\n",
      "3432         2\n",
      "6097         2\n",
      "7978         2\n",
      "2961         2\n",
      "2993         2\n",
      "1173         2\n",
      "2009         2\n",
      "1264         2\n",
      "401          2\n",
      "1731         1\n",
      "22040        1\n",
      "7262         1\n",
      "1639         1\n",
      "2387         1\n",
      "Name: capital gain, Length: 121, dtype: int64\n",
      "---- capital loss---\n",
      "0       43082\n",
      "1902      294\n",
      "1977      246\n",
      "1887      228\n",
      "2415       68\n",
      "1485       65\n",
      "1848       65\n",
      "1876       59\n",
      "1590       58\n",
      "1740       57\n",
      "1672       49\n",
      "1741       42\n",
      "1564       40\n",
      "1602       40\n",
      "2258       39\n",
      "1980       36\n",
      "1669       34\n",
      "1719       33\n",
      "2001       32\n",
      "1408       32\n",
      "2002       31\n",
      "1579       29\n",
      "2051       29\n",
      "1974       27\n",
      "2339       24\n",
      "1504       23\n",
      "1628       22\n",
      "1721       22\n",
      "2377       21\n",
      "2444       20\n",
      "        ...  \n",
      "2267        3\n",
      "1429        3\n",
      "1944        3\n",
      "1735        3\n",
      "1411        3\n",
      "2754        2\n",
      "1755        2\n",
      "1816        2\n",
      "3683        2\n",
      "2457        2\n",
      "3175        2\n",
      "1510        2\n",
      "1844        2\n",
      "3900        2\n",
      "2352        2\n",
      "1648        2\n",
      "810         2\n",
      "2282        2\n",
      "974         2\n",
      "2467        2\n",
      "2080        1\n",
      "155         1\n",
      "1911        1\n",
      "419         1\n",
      "1539        1\n",
      "2201        1\n",
      "1421        1\n",
      "4356        1\n",
      "2163        1\n",
      "1870        1\n",
      "Name: capital loss, Length: 97, dtype: int64\n",
      "---- hours per week---\n",
      "40    21358\n",
      "50     4094\n",
      "45     2602\n",
      "60     2085\n",
      "35     1776\n",
      "20     1602\n",
      "30     1467\n",
      "55     1020\n",
      "25      820\n",
      "48      733\n",
      "38      681\n",
      "15      519\n",
      "70      418\n",
      "32      371\n",
      "65      349\n",
      "10      332\n",
      "42      326\n",
      "36      308\n",
      "24      304\n",
      "44      301\n",
      "16      253\n",
      "37      236\n",
      "43      219\n",
      "12      201\n",
      "52      200\n",
      "80      189\n",
      "8       152\n",
      "56      133\n",
      "46      127\n",
      "28      123\n",
      "      ...  \n",
      "85       17\n",
      "68       16\n",
      "11       16\n",
      "63       14\n",
      "98       14\n",
      "78       13\n",
      "31       12\n",
      "29       12\n",
      "1        12\n",
      "77        9\n",
      "96        9\n",
      "67        6\n",
      "59        6\n",
      "76        4\n",
      "61        4\n",
      "86        4\n",
      "88        4\n",
      "73        3\n",
      "74        3\n",
      "92        3\n",
      "81        3\n",
      "91        3\n",
      "89        3\n",
      "97        2\n",
      "95        2\n",
      "69        1\n",
      "94        1\n",
      "79        1\n",
      "82        1\n",
      "87        1\n",
      "Name: hours per week, Length: 96, dtype: int64\n",
      "---- country---\n",
      "United-States                 41292\n",
      "Mexico                          903\n",
      "Philippines                     283\n",
      "Germany                         193\n",
      "Puerto-Rico                     175\n",
      "Canada                          163\n",
      "India                           147\n",
      "El-Salvador                     147\n",
      "Cuba                            133\n",
      "England                         119\n",
      "China                           113\n",
      "Jamaica                         103\n",
      "South                           101\n",
      "Italy                           100\n",
      "Dominican-Republic               97\n",
      "Japan                            89\n",
      "Guatemala                        86\n",
      "Vietnam                          83\n",
      "Columbia                         82\n",
      "Poland                           81\n",
      "Haiti                            69\n",
      "Portugal                         62\n",
      "Iran                             56\n",
      "Taiwan                           55\n",
      "Greece                           49\n",
      "Nicaragua                        48\n",
      "Peru                             45\n",
      "Ecuador                          43\n",
      "Ireland                          36\n",
      "France                           36\n",
      "Thailand                         29\n",
      "Hong                             28\n",
      "Cambodia                         26\n",
      "Trinadad&Tobago                  26\n",
      "Yugoslavia                       23\n",
      "Outlying-US(Guam-USVI-etc)       22\n",
      "Laos                             21\n",
      "Scotland                         20\n",
      "Honduras                         19\n",
      "Hungary                          18\n",
      "Holand-Netherlands                1\n",
      "Name: country, dtype: int64\n",
      "---- income---\n",
      "<=50K    34014\n",
      ">50K     11208\n",
      "Name: income, dtype: int64\n"
     ]
    }
   ],
   "source": [
    "# Running a loop of value counts to each columns to count unique values.\n",
    "\n",
    "for c in adult_income.columns:\n",
    "    print('---- %s---' %c)\n",
    "    print(adult_income[c].value_counts())"
   ]
  },
  {
   "cell_type": "code",
   "execution_count": 9,
   "metadata": {},
   "outputs": [],
   "source": [
    "# Dropping noisy data.\n",
    "\n",
    "adult_income.drop(['educational num', 'capital loss', 'capital gain', 'fnlwgt'], axis = 1, inplace = True)"
   ]
  },
  {
   "cell_type": "code",
   "execution_count": 10,
   "metadata": {},
   "outputs": [
    {
     "data": {
      "text/plain": [
       "{'<=50K', '>50K'}"
      ]
     },
     "execution_count": 10,
     "metadata": {},
     "output_type": "execute_result"
    }
   ],
   "source": [
    "# Check how many catergories are in income.\n",
    "\n",
    "set(adult_income['income'])"
   ]
  },
  {
   "cell_type": "code",
   "execution_count": 11,
   "metadata": {},
   "outputs": [
    {
     "data": {
      "text/html": [
       "<div>\n",
       "<style scoped>\n",
       "    .dataframe tbody tr th:only-of-type {\n",
       "        vertical-align: middle;\n",
       "    }\n",
       "\n",
       "    .dataframe tbody tr th {\n",
       "        vertical-align: top;\n",
       "    }\n",
       "\n",
       "    .dataframe thead th {\n",
       "        text-align: right;\n",
       "    }\n",
       "</style>\n",
       "<table border=\"1\" class=\"dataframe\">\n",
       "  <thead>\n",
       "    <tr style=\"text-align: right;\">\n",
       "      <th></th>\n",
       "      <th>age</th>\n",
       "      <th>workclass</th>\n",
       "      <th>education</th>\n",
       "      <th>marital status</th>\n",
       "      <th>occupation</th>\n",
       "      <th>relationship</th>\n",
       "      <th>race</th>\n",
       "      <th>gender</th>\n",
       "      <th>hours per week</th>\n",
       "      <th>country</th>\n",
       "      <th>income</th>\n",
       "    </tr>\n",
       "  </thead>\n",
       "  <tbody>\n",
       "    <tr>\n",
       "      <th>0</th>\n",
       "      <td>25</td>\n",
       "      <td>Private</td>\n",
       "      <td>11th</td>\n",
       "      <td>Never-married</td>\n",
       "      <td>Machine-op-inspct</td>\n",
       "      <td>Own-child</td>\n",
       "      <td>Black</td>\n",
       "      <td>Male</td>\n",
       "      <td>40</td>\n",
       "      <td>United-States</td>\n",
       "      <td>0</td>\n",
       "    </tr>\n",
       "    <tr>\n",
       "      <th>1</th>\n",
       "      <td>38</td>\n",
       "      <td>Private</td>\n",
       "      <td>HS-grad</td>\n",
       "      <td>Married-civ-spouse</td>\n",
       "      <td>Farming-fishing</td>\n",
       "      <td>Husband</td>\n",
       "      <td>White</td>\n",
       "      <td>Male</td>\n",
       "      <td>50</td>\n",
       "      <td>United-States</td>\n",
       "      <td>0</td>\n",
       "    </tr>\n",
       "    <tr>\n",
       "      <th>2</th>\n",
       "      <td>28</td>\n",
       "      <td>Local-gov</td>\n",
       "      <td>Assoc-acdm</td>\n",
       "      <td>Married-civ-spouse</td>\n",
       "      <td>Protective-serv</td>\n",
       "      <td>Husband</td>\n",
       "      <td>White</td>\n",
       "      <td>Male</td>\n",
       "      <td>40</td>\n",
       "      <td>United-States</td>\n",
       "      <td>1</td>\n",
       "    </tr>\n",
       "    <tr>\n",
       "      <th>3</th>\n",
       "      <td>44</td>\n",
       "      <td>Private</td>\n",
       "      <td>Some-college</td>\n",
       "      <td>Married-civ-spouse</td>\n",
       "      <td>Machine-op-inspct</td>\n",
       "      <td>Husband</td>\n",
       "      <td>Black</td>\n",
       "      <td>Male</td>\n",
       "      <td>40</td>\n",
       "      <td>United-States</td>\n",
       "      <td>1</td>\n",
       "    </tr>\n",
       "    <tr>\n",
       "      <th>5</th>\n",
       "      <td>34</td>\n",
       "      <td>Private</td>\n",
       "      <td>10th</td>\n",
       "      <td>Never-married</td>\n",
       "      <td>Other-service</td>\n",
       "      <td>Not-in-family</td>\n",
       "      <td>White</td>\n",
       "      <td>Male</td>\n",
       "      <td>30</td>\n",
       "      <td>United-States</td>\n",
       "      <td>0</td>\n",
       "    </tr>\n",
       "  </tbody>\n",
       "</table>\n",
       "</div>"
      ],
      "text/plain": [
       "   age  workclass     education      marital status         occupation  \\\n",
       "0   25    Private          11th       Never-married  Machine-op-inspct   \n",
       "1   38    Private       HS-grad  Married-civ-spouse    Farming-fishing   \n",
       "2   28  Local-gov    Assoc-acdm  Married-civ-spouse    Protective-serv   \n",
       "3   44    Private  Some-college  Married-civ-spouse  Machine-op-inspct   \n",
       "5   34    Private          10th       Never-married      Other-service   \n",
       "\n",
       "    relationship   race gender  hours per week        country  income  \n",
       "0      Own-child  Black   Male              40  United-States       0  \n",
       "1        Husband  White   Male              50  United-States       0  \n",
       "2        Husband  White   Male              40  United-States       1  \n",
       "3        Husband  Black   Male              40  United-States       1  \n",
       "5  Not-in-family  White   Male              30  United-States       0  "
      ]
     },
     "execution_count": 11,
     "metadata": {},
     "output_type": "execute_result"
    }
   ],
   "source": [
    "# Convert income column to numerical.\n",
    "\n",
    "adult_income['income'] = adult_income['income'].map({'<=50K':0, '>50K':1}).astype(int)\n",
    "adult_income.head()"
   ]
  },
  {
   "cell_type": "markdown",
   "metadata": {},
   "source": [
    "## Part 2: Data Visualization"
   ]
  },
  {
   "cell_type": "code",
   "execution_count": 12,
   "metadata": {},
   "outputs": [],
   "source": [
    "# Import libraries for data visualization.\n",
    "\n",
    "import matplotlib.pyplot as plt\n",
    "import seaborn as sns"
   ]
  },
  {
   "cell_type": "code",
   "execution_count": 13,
   "metadata": {},
   "outputs": [
    {
     "data": {
      "image/png": "[encoded data removed]",
      "text/plain": [
       "<Figure size 432x288 with 1 Axes>"
      ]
     },
     "metadata": {
      "needs_background": "light"
     },
     "output_type": "display_data"
    }
   ],
   "source": [
    "# Compare how many make less than 50k versus more than 50k.\n",
    "\n",
    "income_groups = adult_income['income'].value_counts()\n",
    "ax = plt.subplot()\n",
    "income_groups.plot(kind = 'bar')\n",
    "plt.xticks(rotation = 'horizontal')\n",
    "ax.set_xticks([0,1])\n",
    "ax.set_xticklabels(['<= 50k', '> 50k'])\n",
    "plt.xlabel('Income Groups')\n",
    "plt.title('Comparison of Two Income Groups')\n",
    "plt.show()"
   ]
  },
  {
   "cell_type": "code",
   "execution_count": 14,
   "metadata": {},
   "outputs": [
    {
     "data": {
      "image/png": "[encoded data removed]",
      "text/plain": [
       "<Figure size 432x288 with 1 Axes>"
      ]
     },
     "metadata": {
      "needs_background": "light"
     },
     "output_type": "display_data"
    }
   ],
   "source": [
    "# Compare how much a male makes versus a female.\n",
    "\n",
    "sex_income = adult_income.groupby('gender')['income'].mean()\n",
    "ax = plt.subplot()\n",
    "sex_income.plot(kind = 'bar')\n",
    "plt.xticks(rotation = 'horizontal')\n",
    "ax.set_xticks([0,1])\n",
    "ax.set_xticklabels(['Female', 'Male'])\n",
    "plt.title('Income Based on Sex')\n",
    "plt.show()"
   ]
  },
  {
   "cell_type": "markdown",
   "metadata": {},
   "source": [
    "#### This basically means that males are more likely to have a higher income than females which is unfortunate."
   ]
  },
  {
   "cell_type": "code",
   "execution_count": 16,
   "metadata": {},
   "outputs": [
    {
     "data": {
      "text/plain": [
       "Text(0.5, 0, 'Likelihood of Higher Income')"
      ]
     },
     "execution_count": 16,
     "metadata": {},
     "output_type": "execute_result"
    },
    {
     "data": {
      "image/png": "[encoded data removed]",
      "text/plain": [
       "<Figure size 432x288 with 1 Axes>"
      ]
     },
     "metadata": {
      "needs_background": "light"
     },
     "output_type": "display_data"
    }
   ],
   "source": [
    "# Let's compare where education puts you in terms of income. \n",
    "\n",
    "edu_level = adult_income.groupby('education')['income'].mean().sort_values()\n",
    "edu_level.plot(kind = 'barh')\n",
    "plt.xlabel('Likelihood of Higher Income')"
   ]
  },
  {
   "cell_type": "markdown",
   "metadata": {},
   "source": [
    "#### The more educated you are, the more likely you will earn an income of 50k or greater which makes sense."
   ]
  },
  {
   "cell_type": "code",
   "execution_count": 17,
   "metadata": {},
   "outputs": [
    {
     "data": {
      "text/plain": [
       "Text(0.5, 0, 'Likelihood of Higher Income')"
      ]
     },
     "execution_count": 17,
     "metadata": {},
     "output_type": "execute_result"
    },
    {
     "data": {
      "image/png": "[encoded data removed]",
      "text/plain": [
       "<Figure size 432x288 with 1 Axes>"
      ]
     },
     "metadata": {
      "needs_background": "light"
     },
     "output_type": "display_data"
    }
   ],
   "source": [
    "# Let's investigate if the line of work you're in affects your income.\n",
    "\n",
    "occupation = adult_income.groupby('occupation')['income'].mean().sort_values()\n",
    "occupation.plot(kind = 'barh')\n",
    "plt.xlabel('Likelihood of Higher Income')"
   ]
  },
  {
   "cell_type": "code",
   "execution_count": 18,
   "metadata": {},
   "outputs": [
    {
     "data": {
      "text/plain": [
       "Text(0.5, 1.0, 'Marital Status vs Higher Income')"
      ]
     },
     "execution_count": 18,
     "metadata": {},
     "output_type": "execute_result"
    },
    {
     "data": {
      "image/png": "[encoded data removed]",
      "text/plain": [
       "<Figure size 1152x576 with 1 Axes>"
      ]
     },
     "metadata": {
      "needs_background": "light"
     },
     "output_type": "display_data"
    }
   ],
   "source": [
    "# Does marital status affect income?\n",
    "\n",
    "plt.figure(figsize = (16,8))\n",
    "sns.barplot(x = 'marital status', y = 'income', data = adult_income)\n",
    "plt.xlabel('Marital Status')\n",
    "plt.ylabel('Likelihood of Higher Income')\n",
    "plt.title('Marital Status vs Higher Income')"
   ]
  },
  {
   "cell_type": "code",
   "execution_count": 19,
   "metadata": {},
   "outputs": [
    {
     "data": {
      "text/plain": [
       "Text(0.5, 1.0, 'Race vs Likelihood of Higher Income')"
      ]
     },
     "execution_count": 19,
     "metadata": {},
     "output_type": "execute_result"
    },
    {
     "data": {
      "image/png": "[encoded data removed]",
      "text/plain": [
       "<Figure size 720x576 with 1 Axes>"
      ]
     },
     "metadata": {
      "needs_background": "light"
     },
     "output_type": "display_data"
    }
   ],
   "source": [
    "# Does race affect likelihood of higher income?\n",
    "\n",
    "plt.figure(figsize = (10,8))\n",
    "sns.barplot(x = 'race', y = 'income', data = adult_income)\n",
    "plt.xlabel('Race')\n",
    "plt.ylabel('Likelihood of Higher Income')\n",
    "plt.title('Race vs Likelihood of Higher Income')"
   ]
  },
  {
   "cell_type": "code",
   "execution_count": 20,
   "metadata": {},
   "outputs": [
    {
     "data": {
      "text/plain": [
       "<matplotlib.legend.Legend at 0x1a23fdd1d0>"
      ]
     },
     "execution_count": 20,
     "metadata": {},
     "output_type": "execute_result"
    },
    {
     "data": {
      "image/png": "[encoded data removed]",
      "text/plain": [
       "<Figure size 720x576 with 1 Axes>"
      ]
     },
     "metadata": {
      "needs_background": "light"
     },
     "output_type": "display_data"
    }
   ],
   "source": [
    "# Let's compare the difference of income of gender within racial groups. \n",
    "\n",
    "plt.figure(figsize = (10,8))\n",
    "sns.barplot(x = 'race', y = 'income', hue = 'gender', data = adult_income)\n",
    "plt.legend(loc = 'upper center')"
   ]
  },
  {
   "cell_type": "code",
   "execution_count": 21,
   "metadata": {},
   "outputs": [
    {
     "data": {
      "image/png": "[encoded data removed]",
      "text/plain": [
       "<Figure size 432x288 with 2 Axes>"
      ]
     },
     "metadata": {
      "needs_background": "light"
     },
     "output_type": "display_data"
    }
   ],
   "source": [
    "# Distribution of age and hours per week.\n",
    "\n",
    "plt.subplot(1, 3, 1)\n",
    "plt.hist(adult_income['age'], bins = 15)\n",
    "plt.title('Distribution of Age')\n",
    "\n",
    "plt.subplot(1, 3, 3)\n",
    "plt.hist(adult_income['hours per week'], bins = 15)\n",
    "plt.title('Distribution of Weekly Hours')\n",
    "\n",
    "plt.show()"
   ]
  },
  {
   "cell_type": "code",
   "execution_count": 22,
   "metadata": {},
   "outputs": [
    {
     "data": {
      "text/plain": [
       "<matplotlib.axes._subplots.AxesSubplot at 0x1a23bc7ef0>"
      ]
     },
     "execution_count": 22,
     "metadata": {},
     "output_type": "execute_result"
    },
    {
     "data": {
      "image/png": "[encoded data removed]",
      "text/plain": [
       "<Figure size 1440x432 with 1 Axes>"
      ]
     },
     "metadata": {
      "needs_background": "light"
     },
     "output_type": "display_data"
    }
   ],
   "source": [
    "# Let's compare gender and education level.\n",
    "\n",
    "plt.figure(figsize = (20,6))\n",
    "sns.barplot(x = 'education', y = 'income', hue = 'gender', data = adult_income)"
   ]
  },
  {
   "cell_type": "markdown",
   "metadata": {},
   "source": [
    "## Part 3: Machine Learning Modeling"
   ]
  },
  {
   "cell_type": "markdown",
   "metadata": {},
   "source": [
    "### Logistic Regression"
   ]
  },
  {
   "cell_type": "code",
   "execution_count": 15,
   "metadata": {},
   "outputs": [
    {
     "data": {
      "text/html": [
       "<div>\n",
       "<style scoped>\n",
       "    .dataframe tbody tr th:only-of-type {\n",
       "        vertical-align: middle;\n",
       "    }\n",
       "\n",
       "    .dataframe tbody tr th {\n",
       "        vertical-align: top;\n",
       "    }\n",
       "\n",
       "    .dataframe thead th {\n",
       "        text-align: right;\n",
       "    }\n",
       "</style>\n",
       "<table border=\"1\" class=\"dataframe\">\n",
       "  <thead>\n",
       "    <tr style=\"text-align: right;\">\n",
       "      <th></th>\n",
       "      <th>age</th>\n",
       "      <th>workclass</th>\n",
       "      <th>education</th>\n",
       "      <th>marital status</th>\n",
       "      <th>occupation</th>\n",
       "      <th>relationship</th>\n",
       "      <th>race</th>\n",
       "      <th>gender</th>\n",
       "      <th>hours per week</th>\n",
       "      <th>country</th>\n",
       "      <th>income</th>\n",
       "    </tr>\n",
       "  </thead>\n",
       "  <tbody>\n",
       "    <tr>\n",
       "      <th>0</th>\n",
       "      <td>25</td>\n",
       "      <td>2</td>\n",
       "      <td>1</td>\n",
       "      <td>4</td>\n",
       "      <td>6</td>\n",
       "      <td>3</td>\n",
       "      <td>2</td>\n",
       "      <td>1</td>\n",
       "      <td>40</td>\n",
       "      <td>38</td>\n",
       "      <td>0</td>\n",
       "    </tr>\n",
       "    <tr>\n",
       "      <th>1</th>\n",
       "      <td>38</td>\n",
       "      <td>2</td>\n",
       "      <td>11</td>\n",
       "      <td>2</td>\n",
       "      <td>4</td>\n",
       "      <td>0</td>\n",
       "      <td>4</td>\n",
       "      <td>1</td>\n",
       "      <td>50</td>\n",
       "      <td>38</td>\n",
       "      <td>0</td>\n",
       "    </tr>\n",
       "    <tr>\n",
       "      <th>2</th>\n",
       "      <td>28</td>\n",
       "      <td>1</td>\n",
       "      <td>7</td>\n",
       "      <td>2</td>\n",
       "      <td>10</td>\n",
       "      <td>0</td>\n",
       "      <td>4</td>\n",
       "      <td>1</td>\n",
       "      <td>40</td>\n",
       "      <td>38</td>\n",
       "      <td>1</td>\n",
       "    </tr>\n",
       "    <tr>\n",
       "      <th>3</th>\n",
       "      <td>44</td>\n",
       "      <td>2</td>\n",
       "      <td>15</td>\n",
       "      <td>2</td>\n",
       "      <td>6</td>\n",
       "      <td>0</td>\n",
       "      <td>2</td>\n",
       "      <td>1</td>\n",
       "      <td>40</td>\n",
       "      <td>38</td>\n",
       "      <td>1</td>\n",
       "    </tr>\n",
       "    <tr>\n",
       "      <th>5</th>\n",
       "      <td>34</td>\n",
       "      <td>2</td>\n",
       "      <td>0</td>\n",
       "      <td>4</td>\n",
       "      <td>7</td>\n",
       "      <td>1</td>\n",
       "      <td>4</td>\n",
       "      <td>1</td>\n",
       "      <td>30</td>\n",
       "      <td>38</td>\n",
       "      <td>0</td>\n",
       "    </tr>\n",
       "  </tbody>\n",
       "</table>\n",
       "</div>"
      ],
      "text/plain": [
       "   age  workclass  education  marital status  occupation  relationship  race  \\\n",
       "0   25          2          1               4           6             3     2   \n",
       "1   38          2         11               2           4             0     4   \n",
       "2   28          1          7               2          10             0     4   \n",
       "3   44          2         15               2           6             0     2   \n",
       "5   34          2          0               4           7             1     4   \n",
       "\n",
       "   gender  hours per week  country  income  \n",
       "0       1              40       38       0  \n",
       "1       1              50       38       0  \n",
       "2       1              40       38       1  \n",
       "3       1              40       38       1  \n",
       "5       1              30       38       0  "
      ]
     },
     "execution_count": 15,
     "metadata": {},
     "output_type": "execute_result"
    }
   ],
   "source": [
    "# Before we begin modeling the data, first we need to convert all categorical columns to numerical.\n",
    "\n",
    "from sklearn.preprocessing import LabelEncoder\n",
    "\n",
    "le = LabelEncoder()\n",
    "\n",
    "for col in adult_income:\n",
    "    if adult_income[col].dtypes == 'object':\n",
    "        adult_income[col] = le.fit_transform(adult_income[col])\n",
    "        \n",
    "adult_income.head()"
   ]
  },
  {
   "cell_type": "code",
   "execution_count": 20,
   "metadata": {},
   "outputs": [
    {
     "name": "stdout",
     "output_type": "stream",
     "text": [
      "(31655, 7)\n",
      "(31655,)\n",
      "(13567, 7)\n",
      "(13567,)\n"
     ]
    }
   ],
   "source": [
    "# Split data into train and test sets.\n",
    "\n",
    "from sklearn.model_selection import train_test_split\n",
    "\n",
    "X = adult_income[['age', 'education', 'marital status', 'occupation', 'race', 'gender', 'hours per week']]\n",
    "y = adult_income['income']\n",
    "\n",
    "X_train, X_test, y_train, y_test = train_test_split(X, y, test_size = 0.3, random_state = 42)\n",
    "\n",
    "print(X_train.shape)\n",
    "print(y_train.shape)\n",
    "print(X_test.shape)\n",
    "print(y_test.shape)"
   ]
  },
  {
   "cell_type": "code",
   "execution_count": 21,
   "metadata": {},
   "outputs": [
    {
     "name": "stderr",
     "output_type": "stream",
     "text": [
      "/Users/andressotelo/anaconda3/lib/python3.7/site-packages/sklearn/linear_model/logistic.py:433: FutureWarning: Default solver will be changed to 'lbfgs' in 0.22. Specify a solver to silence this warning.\n",
      "  FutureWarning)\n"
     ]
    },
    {
     "data": {
      "text/plain": [
       "LogisticRegression(C=1.0, class_weight=None, dual=False, fit_intercept=True,\n",
       "          intercept_scaling=1, max_iter=100, multi_class='warn',\n",
       "          n_jobs=None, penalty='l2', random_state=None, solver='warn',\n",
       "          tol=0.0001, verbose=0, warm_start=False)"
      ]
     },
     "execution_count": 21,
     "metadata": {},
     "output_type": "execute_result"
    }
   ],
   "source": [
    "# Implement Logistic Regression.\n",
    "\n",
    "from sklearn.linear_model import LogisticRegression\n",
    "\n",
    "logreg = LogisticRegression()\n",
    "logreg.fit(X_train, y_train)"
   ]
  },
  {
   "cell_type": "code",
   "execution_count": 22,
   "metadata": {},
   "outputs": [],
   "source": [
    "# Use X_test to predict output.\n",
    "\n",
    "y_pred = logreg.predict(X_test)"
   ]
  },
  {
   "cell_type": "code",
   "execution_count": 23,
   "metadata": {},
   "outputs": [
    {
     "name": "stdout",
     "output_type": "stream",
     "text": [
      "[[9584 2739]\n",
      " [ 657  587]]\n",
      "0.749686739883541\n"
     ]
    }
   ],
   "source": [
    "# Confusion matrix to check for accuracy.\n",
    "\n",
    "from sklearn import metrics\n",
    "from sklearn.metrics import confusion_matrix\n",
    "\n",
    "print(confusion_matrix(y_pred, y_test))\n",
    "accuracy = metrics.accuracy_score(y_test, y_pred)\n",
    "print(accuracy)"
   ]
  },
  {
   "cell_type": "markdown",
   "metadata": {},
   "source": [
    "#### Let's perfrom 10-fold cross validation to optimize our accuracy score. Let's see if we can obtain a higher score than 75%."
   ]
  },
  {
   "cell_type": "code",
   "execution_count": 24,
   "metadata": {},
   "outputs": [
    {
     "name": "stderr",
     "output_type": "stream",
     "text": [
      "/Users/andressotelo/anaconda3/lib/python3.7/site-packages/sklearn/linear_model/logistic.py:433: FutureWarning: Default solver will be changed to 'lbfgs' in 0.22. Specify a solver to silence this warning.\n",
      "  FutureWarning)\n"
     ]
    },
    {
     "name": "stdout",
     "output_type": "stream",
     "text": [
      "Fold: 0\n",
      "CV train shape: (40699, 7)\n",
      "CV test shape: (4523, 7)\n"
     ]
    },
    {
     "name": "stderr",
     "output_type": "stream",
     "text": [
      "/Users/andressotelo/anaconda3/lib/python3.7/site-packages/sklearn/linear_model/logistic.py:433: FutureWarning: Default solver will be changed to 'lbfgs' in 0.22. Specify a solver to silence this warning.\n",
      "  FutureWarning)\n"
     ]
    },
    {
     "name": "stdout",
     "output_type": "stream",
     "text": [
      "Fold: 1\n",
      "CV train shape: (40699, 7)\n",
      "CV test shape: (4523, 7)\n"
     ]
    },
    {
     "name": "stderr",
     "output_type": "stream",
     "text": [
      "/Users/andressotelo/anaconda3/lib/python3.7/site-packages/sklearn/linear_model/logistic.py:433: FutureWarning: Default solver will be changed to 'lbfgs' in 0.22. Specify a solver to silence this warning.\n",
      "  FutureWarning)\n"
     ]
    },
    {
     "name": "stdout",
     "output_type": "stream",
     "text": [
      "Fold: 2\n",
      "CV train shape: (40700, 7)\n",
      "CV test shape: (4522, 7)\n"
     ]
    },
    {
     "name": "stderr",
     "output_type": "stream",
     "text": [
      "/Users/andressotelo/anaconda3/lib/python3.7/site-packages/sklearn/linear_model/logistic.py:433: FutureWarning: Default solver will be changed to 'lbfgs' in 0.22. Specify a solver to silence this warning.\n",
      "  FutureWarning)\n"
     ]
    },
    {
     "name": "stdout",
     "output_type": "stream",
     "text": [
      "Fold: 3\n",
      "CV train shape: (40700, 7)\n",
      "CV test shape: (4522, 7)\n"
     ]
    },
    {
     "name": "stderr",
     "output_type": "stream",
     "text": [
      "/Users/andressotelo/anaconda3/lib/python3.7/site-packages/sklearn/linear_model/logistic.py:433: FutureWarning: Default solver will be changed to 'lbfgs' in 0.22. Specify a solver to silence this warning.\n",
      "  FutureWarning)\n"
     ]
    },
    {
     "name": "stdout",
     "output_type": "stream",
     "text": [
      "Fold: 4\n",
      "CV train shape: (40700, 7)\n",
      "CV test shape: (4522, 7)\n"
     ]
    },
    {
     "name": "stderr",
     "output_type": "stream",
     "text": [
      "/Users/andressotelo/anaconda3/lib/python3.7/site-packages/sklearn/linear_model/logistic.py:433: FutureWarning: Default solver will be changed to 'lbfgs' in 0.22. Specify a solver to silence this warning.\n",
      "  FutureWarning)\n"
     ]
    },
    {
     "name": "stdout",
     "output_type": "stream",
     "text": [
      "Fold: 5\n",
      "CV train shape: (40700, 7)\n",
      "CV test shape: (4522, 7)\n"
     ]
    },
    {
     "name": "stderr",
     "output_type": "stream",
     "text": [
      "/Users/andressotelo/anaconda3/lib/python3.7/site-packages/sklearn/linear_model/logistic.py:433: FutureWarning: Default solver will be changed to 'lbfgs' in 0.22. Specify a solver to silence this warning.\n",
      "  FutureWarning)\n"
     ]
    },
    {
     "name": "stdout",
     "output_type": "stream",
     "text": [
      "Fold: 6\n",
      "CV train shape: (40700, 7)\n",
      "CV test shape: (4522, 7)\n"
     ]
    },
    {
     "name": "stderr",
     "output_type": "stream",
     "text": [
      "/Users/andressotelo/anaconda3/lib/python3.7/site-packages/sklearn/linear_model/logistic.py:433: FutureWarning: Default solver will be changed to 'lbfgs' in 0.22. Specify a solver to silence this warning.\n",
      "  FutureWarning)\n"
     ]
    },
    {
     "name": "stdout",
     "output_type": "stream",
     "text": [
      "Fold: 7\n",
      "CV train shape: (40700, 7)\n",
      "CV test shape: (4522, 7)\n"
     ]
    },
    {
     "name": "stderr",
     "output_type": "stream",
     "text": [
      "/Users/andressotelo/anaconda3/lib/python3.7/site-packages/sklearn/linear_model/logistic.py:433: FutureWarning: Default solver will be changed to 'lbfgs' in 0.22. Specify a solver to silence this warning.\n",
      "  FutureWarning)\n"
     ]
    },
    {
     "name": "stdout",
     "output_type": "stream",
     "text": [
      "Fold: 8\n",
      "CV train shape: (40700, 7)\n",
      "CV test shape: (4522, 7)\n"
     ]
    },
    {
     "name": "stderr",
     "output_type": "stream",
     "text": [
      "/Users/andressotelo/anaconda3/lib/python3.7/site-packages/sklearn/linear_model/logistic.py:433: FutureWarning: Default solver will be changed to 'lbfgs' in 0.22. Specify a solver to silence this warning.\n",
      "  FutureWarning)\n"
     ]
    },
    {
     "name": "stdout",
     "output_type": "stream",
     "text": [
      "Fold: 9\n",
      "CV train shape: (40700, 7)\n",
      "CV test shape: (4522, 7)\n",
      "[75.63564006190582, 74.83970815830202, 74.25917735515259, 75.51968155683326, 76.24944714727997, 74.25917735515259, 74.52454666076957, 75.25431225121628, 76.2936753648828, 73.88323750552853]\n"
     ]
    }
   ],
   "source": [
    "# K-fold Cross Validation where k = 10.\n",
    "\n",
    "from sklearn.model_selection import KFold\n",
    "from sklearn.metrics import accuracy_score\n",
    "\n",
    "scores = []\n",
    "cv = KFold(n_splits = 10, shuffle = True, random_state = 42)\n",
    "fold = 0\n",
    "for train_index, test_index in cv.split(X):\n",
    "    cv_X_train, cv_X_test = X.iloc[train_index], X.iloc[test_index]\n",
    "    cv_y_train, cv_y_test = y.iloc[train_index], y.iloc[test_index]\n",
    "    model = logreg.fit(cv_X_train, cv_y_train)\n",
    "    print('Fold: {}'.format(fold))\n",
    "    print('CV train shape: {}'.format(cv_X_train.shape))\n",
    "    print('CV test shape: {}'.format(cv_X_test.shape))\n",
    "    fold += 1\n",
    "    scores.append(accuracy_score(cv_y_test, model.predict(cv_X_test)) * 100)\n",
    "\n",
    "print(scores)"
   ]
  },
  {
   "cell_type": "code",
   "execution_count": 25,
   "metadata": {},
   "outputs": [
    {
     "data": {
      "image/png": "[encoded data removed]",
      "text/plain": [
       "<Figure size 432x288 with 1 Axes>"
      ]
     },
     "metadata": {
      "needs_background": "light"
     },
     "output_type": "display_data"
    },
    {
     "name": "stdout",
     "output_type": "stream",
     "text": [
      "The highest score accuracy score is 76.29%.\n"
     ]
    }
   ],
   "source": [
    "# Let's visualize the accuracy scores.\n",
    "\n",
    "k_folds = range(1,11)\n",
    "plt.plot(k_folds, scores, marker = 'o')\n",
    "plt.ylim(70,80)\n",
    "plt.xticks(range(1,11))\n",
    "plt.xlabel('k')\n",
    "plt.title('Accuracy Scores')\n",
    "plt.show()\n",
    "print('The highest score accuracy score is ' + str(round(max(scores), 2)) + '%.')"
   ]
  },
  {
   "cell_type": "markdown",
   "metadata": {},
   "source": [
    "### Decision Tree"
   ]
  },
  {
   "cell_type": "code",
   "execution_count": 26,
   "metadata": {},
   "outputs": [],
   "source": [
    "from sklearn.tree import DecisionTreeClassifier\n",
    "\n",
    "tree = DecisionTreeClassifier()\n",
    "tree.fit(X_train, y_train)\n",
    "y_pred_tree = tree.predict(X_test)"
   ]
  },
  {
   "cell_type": "code",
   "execution_count": 27,
   "metadata": {},
   "outputs": [
    {
     "name": "stdout",
     "output_type": "stream",
     "text": [
      "[[8873 1563]\n",
      " [1368 1763]]\n",
      "0.7839610820372964\n"
     ]
    }
   ],
   "source": [
    "# Confusion Matrix to check for accuracy.\n",
    "\n",
    "print(confusion_matrix(y_pred_tree, y_test))\n",
    "tree_accuracy = metrics.accuracy_score(y_test, y_pred_tree)\n",
    "print(tree_accuracy)"
   ]
  },
  {
   "cell_type": "code",
   "execution_count": 28,
   "metadata": {},
   "outputs": [
    {
     "name": "stdout",
     "output_type": "stream",
     "text": [
      "Fold: 0\n",
      "CV train shape: (40699, 7)\n",
      "CV test shape: (4523, 7)\n",
      "Fold: 1\n",
      "CV train shape: (40699, 7)\n",
      "CV test shape: (4523, 7)\n",
      "Fold: 2\n",
      "CV train shape: (40700, 7)\n",
      "CV test shape: (4522, 7)\n",
      "Fold: 3\n",
      "CV train shape: (40700, 7)\n",
      "CV test shape: (4522, 7)\n",
      "Fold: 4\n",
      "CV train shape: (40700, 7)\n",
      "CV test shape: (4522, 7)\n",
      "Fold: 5\n",
      "CV train shape: (40700, 7)\n",
      "CV test shape: (4522, 7)\n",
      "Fold: 6\n",
      "CV train shape: (40700, 7)\n",
      "CV test shape: (4522, 7)\n",
      "Fold: 7\n",
      "CV train shape: (40700, 7)\n",
      "CV test shape: (4522, 7)\n",
      "Fold: 8\n",
      "CV train shape: (40700, 7)\n",
      "CV test shape: (4522, 7)\n",
      "Fold: 9\n",
      "CV train shape: (40700, 7)\n",
      "CV test shape: (4522, 7)\n",
      "[78.95202299358832, 78.17820030952907, 78.7483414418399, 77.75320654577621, 79.14639540026536, 77.26669615214506, 78.65988500663423, 78.30605926581158, 78.0185758513932, 78.30605926581158]\n"
     ]
    }
   ],
   "source": [
    "# K-fold Cross Validation.\n",
    "\n",
    "tree_scores = []\n",
    "cv = KFold(n_splits = 10, shuffle = True, random_state = 42)\n",
    "fold = 0\n",
    "for train_index, test_index in cv.split(X):\n",
    "    cv_X_train, cv_X_test = X.iloc[train_index], X.iloc[test_index]\n",
    "    cv_y_train, cv_y_test = y.iloc[train_index], y.iloc[test_index]\n",
    "    model2 = tree.fit(cv_X_train, cv_y_train)\n",
    "    print('Fold: {}'.format(fold))\n",
    "    print('CV train shape: {}'.format(cv_X_train.shape))\n",
    "    print('CV test shape: {}'.format(cv_X_test.shape))\n",
    "    fold += 1\n",
    "    tree_scores.append(accuracy_score(cv_y_test, model2.predict(cv_X_test)) * 100)\n",
    "\n",
    "print(tree_scores)"
   ]
  },
  {
   "cell_type": "code",
   "execution_count": 29,
   "metadata": {},
   "outputs": [
    {
     "data": {
      "image/png": "[encoded data removed]",
      "text/plain": [
       "<Figure size 432x288 with 1 Axes>"
      ]
     },
     "metadata": {
      "needs_background": "light"
     },
     "output_type": "display_data"
    },
    {
     "name": "stdout",
     "output_type": "stream",
     "text": [
      "The highest accuracy score is 79.15%.\n"
     ]
    }
   ],
   "source": [
    "# Let's visualize the trend for each accuracy score.\n",
    "\n",
    "k_folds = range(1,11)\n",
    "plt.plot(k_folds, tree_scores, marker = 'o')\n",
    "plt.ylim(70,80)\n",
    "plt.xticks(range(1,11))\n",
    "plt.xlabel('k')\n",
    "plt.title('Accuracy Scores')\n",
    "plt.show()\n",
    "print('The highest accuracy score is ' + str(round(max(tree_scores), 2)) + '%.')"
   ]
  },
  {
   "cell_type": "markdown",
   "metadata": {},
   "source": [
    "#### It seems that a decision Tree Model performed better than the Logistic Regression model."
   ]
  },
  {
   "cell_type": "markdown",
   "metadata": {},
   "source": [
    "### Support Vector Machine"
   ]
  },
  {
   "cell_type": "code",
   "execution_count": 30,
   "metadata": {},
   "outputs": [
    {
     "name": "stderr",
     "output_type": "stream",
     "text": [
      "/Users/andressotelo/anaconda3/lib/python3.7/site-packages/sklearn/svm/base.py:196: FutureWarning: The default value of gamma will change from 'auto' to 'scale' in version 0.22 to account better for unscaled features. Set gamma explicitly to 'auto' or 'scale' to avoid this warning.\n",
      "  \"avoid this warning.\", FutureWarning)\n"
     ]
    }
   ],
   "source": [
    "from sklearn.svm import SVC\n",
    "\n",
    "svm = SVC(kernel = 'rbf')\n",
    "svm.fit(X_train, y_train)\n",
    "y_pred_svm = svm.predict(X_test)"
   ]
  },
  {
   "cell_type": "code",
   "execution_count": 31,
   "metadata": {},
   "outputs": [
    {
     "name": "stdout",
     "output_type": "stream",
     "text": [
      "[[9296 1642]\n",
      " [ 945 1684]]\n",
      "0.8093167244048057\n"
     ]
    }
   ],
   "source": [
    "print(confusion_matrix(y_pred_svm, y_test))\n",
    "svm_accuracy = metrics.accuracy_score(y_test, y_pred_svm)\n",
    "print(svm_accuracy)"
   ]
  },
  {
   "cell_type": "code",
   "execution_count": 32,
   "metadata": {},
   "outputs": [
    {
     "name": "stderr",
     "output_type": "stream",
     "text": [
      "/Users/andressotelo/anaconda3/lib/python3.7/site-packages/sklearn/svm/base.py:196: FutureWarning: The default value of gamma will change from 'auto' to 'scale' in version 0.22 to account better for unscaled features. Set gamma explicitly to 'auto' or 'scale' to avoid this warning.\n",
      "  \"avoid this warning.\", FutureWarning)\n"
     ]
    },
    {
     "name": "stdout",
     "output_type": "stream",
     "text": [
      "Fold: 0\n",
      "CV train shape: (40699, 7)\n",
      "CV test shape: (4523, 7)\n"
     ]
    },
    {
     "name": "stderr",
     "output_type": "stream",
     "text": [
      "/Users/andressotelo/anaconda3/lib/python3.7/site-packages/sklearn/svm/base.py:196: FutureWarning: The default value of gamma will change from 'auto' to 'scale' in version 0.22 to account better for unscaled features. Set gamma explicitly to 'auto' or 'scale' to avoid this warning.\n",
      "  \"avoid this warning.\", FutureWarning)\n"
     ]
    },
    {
     "name": "stdout",
     "output_type": "stream",
     "text": [
      "Fold: 1\n",
      "CV train shape: (40699, 7)\n",
      "CV test shape: (4523, 7)\n"
     ]
    },
    {
     "name": "stderr",
     "output_type": "stream",
     "text": [
      "/Users/andressotelo/anaconda3/lib/python3.7/site-packages/sklearn/svm/base.py:196: FutureWarning: The default value of gamma will change from 'auto' to 'scale' in version 0.22 to account better for unscaled features. Set gamma explicitly to 'auto' or 'scale' to avoid this warning.\n",
      "  \"avoid this warning.\", FutureWarning)\n"
     ]
    },
    {
     "name": "stdout",
     "output_type": "stream",
     "text": [
      "Fold: 2\n",
      "CV train shape: (40700, 7)\n",
      "CV test shape: (4522, 7)\n"
     ]
    },
    {
     "name": "stderr",
     "output_type": "stream",
     "text": [
      "/Users/andressotelo/anaconda3/lib/python3.7/site-packages/sklearn/svm/base.py:196: FutureWarning: The default value of gamma will change from 'auto' to 'scale' in version 0.22 to account better for unscaled features. Set gamma explicitly to 'auto' or 'scale' to avoid this warning.\n",
      "  \"avoid this warning.\", FutureWarning)\n"
     ]
    },
    {
     "name": "stdout",
     "output_type": "stream",
     "text": [
      "Fold: 3\n",
      "CV train shape: (40700, 7)\n",
      "CV test shape: (4522, 7)\n"
     ]
    },
    {
     "name": "stderr",
     "output_type": "stream",
     "text": [
      "/Users/andressotelo/anaconda3/lib/python3.7/site-packages/sklearn/svm/base.py:196: FutureWarning: The default value of gamma will change from 'auto' to 'scale' in version 0.22 to account better for unscaled features. Set gamma explicitly to 'auto' or 'scale' to avoid this warning.\n",
      "  \"avoid this warning.\", FutureWarning)\n"
     ]
    },
    {
     "name": "stdout",
     "output_type": "stream",
     "text": [
      "Fold: 4\n",
      "CV train shape: (40700, 7)\n",
      "CV test shape: (4522, 7)\n"
     ]
    },
    {
     "name": "stderr",
     "output_type": "stream",
     "text": [
      "/Users/andressotelo/anaconda3/lib/python3.7/site-packages/sklearn/svm/base.py:196: FutureWarning: The default value of gamma will change from 'auto' to 'scale' in version 0.22 to account better for unscaled features. Set gamma explicitly to 'auto' or 'scale' to avoid this warning.\n",
      "  \"avoid this warning.\", FutureWarning)\n"
     ]
    },
    {
     "name": "stdout",
     "output_type": "stream",
     "text": [
      "Fold: 5\n",
      "CV train shape: (40700, 7)\n",
      "CV test shape: (4522, 7)\n"
     ]
    },
    {
     "name": "stderr",
     "output_type": "stream",
     "text": [
      "/Users/andressotelo/anaconda3/lib/python3.7/site-packages/sklearn/svm/base.py:196: FutureWarning: The default value of gamma will change from 'auto' to 'scale' in version 0.22 to account better for unscaled features. Set gamma explicitly to 'auto' or 'scale' to avoid this warning.\n",
      "  \"avoid this warning.\", FutureWarning)\n"
     ]
    },
    {
     "name": "stdout",
     "output_type": "stream",
     "text": [
      "Fold: 6\n",
      "CV train shape: (40700, 7)\n",
      "CV test shape: (4522, 7)\n"
     ]
    },
    {
     "name": "stderr",
     "output_type": "stream",
     "text": [
      "/Users/andressotelo/anaconda3/lib/python3.7/site-packages/sklearn/svm/base.py:196: FutureWarning: The default value of gamma will change from 'auto' to 'scale' in version 0.22 to account better for unscaled features. Set gamma explicitly to 'auto' or 'scale' to avoid this warning.\n",
      "  \"avoid this warning.\", FutureWarning)\n"
     ]
    },
    {
     "name": "stdout",
     "output_type": "stream",
     "text": [
      "Fold: 7\n",
      "CV train shape: (40700, 7)\n",
      "CV test shape: (4522, 7)\n"
     ]
    },
    {
     "name": "stderr",
     "output_type": "stream",
     "text": [
      "/Users/andressotelo/anaconda3/lib/python3.7/site-packages/sklearn/svm/base.py:196: FutureWarning: The default value of gamma will change from 'auto' to 'scale' in version 0.22 to account better for unscaled features. Set gamma explicitly to 'auto' or 'scale' to avoid this warning.\n",
      "  \"avoid this warning.\", FutureWarning)\n"
     ]
    },
    {
     "name": "stdout",
     "output_type": "stream",
     "text": [
      "Fold: 8\n",
      "CV train shape: (40700, 7)\n",
      "CV test shape: (4522, 7)\n"
     ]
    },
    {
     "name": "stderr",
     "output_type": "stream",
     "text": [
      "/Users/andressotelo/anaconda3/lib/python3.7/site-packages/sklearn/svm/base.py:196: FutureWarning: The default value of gamma will change from 'auto' to 'scale' in version 0.22 to account better for unscaled features. Set gamma explicitly to 'auto' or 'scale' to avoid this warning.\n",
      "  \"avoid this warning.\", FutureWarning)\n"
     ]
    },
    {
     "name": "stdout",
     "output_type": "stream",
     "text": [
      "Fold: 9\n",
      "CV train shape: (40700, 7)\n",
      "CV test shape: (4522, 7)\n",
      "[82.40106124253815, 80.54388680079593, 80.80495356037152, 81.77797434763379, 81.24723573639983, 80.34055727554178, 81.09243697478992, 79.98673153471914, 80.89340999557719, 80.7828394515701]\n"
     ]
    }
   ],
   "source": [
    "svm_scores = []\n",
    "cv = KFold(n_splits = 10, shuffle = True, random_state = 42)\n",
    "fold = 0\n",
    "for train_index, test_index in cv.split(X):\n",
    "    cv_X_train, cv_X_test = X.iloc[train_index], X.iloc[test_index]\n",
    "    cv_y_train, cv_y_test = y.iloc[train_index], y.iloc[test_index]\n",
    "    model3 = svm.fit(cv_X_train, cv_y_train)\n",
    "    print('Fold: {}'.format(fold))\n",
    "    print('CV train shape: {}'.format(cv_X_train.shape))\n",
    "    print('CV test shape: {}'.format(cv_X_test.shape))\n",
    "    fold += 1\n",
    "    svm_scores.append(accuracy_score(cv_y_test, model3.predict(cv_X_test)) * 100)\n",
    "\n",
    "print(svm_scores)"
   ]
  },
  {
   "cell_type": "code",
   "execution_count": 33,
   "metadata": {},
   "outputs": [
    {
     "data": {
      "image/png": "[encoded data removed]",
      "text/plain": [
       "<Figure size 432x288 with 1 Axes>"
      ]
     },
     "metadata": {
      "needs_background": "light"
     },
     "output_type": "display_data"
    },
    {
     "name": "stdout",
     "output_type": "stream",
     "text": [
      "The highest accuracy score is 82.4%.\n"
     ]
    }
   ],
   "source": [
    "# Let's visualize the trend for each accuracy score.\n",
    "\n",
    "k_folds = range(1,11)\n",
    "plt.plot(k_folds, svm_scores, marker = 'o')\n",
    "plt.ylim(75,85)\n",
    "plt.xticks(range(1,11))\n",
    "plt.xlabel('k')\n",
    "plt.title('Accuracy Scores')\n",
    "plt.show()\n",
    "print('The highest accuracy score is ' + str(round(max(svm_scores), 2)) + '%.')"
   ]
  },
  {
   "cell_type": "markdown",
   "metadata": {},
   "source": [
    "### K-Nearest_Neighbors"
   ]
  },
  {
   "cell_type": "code",
   "execution_count": 34,
   "metadata": {},
   "outputs": [
    {
     "data": {
      "image/png": "[encoded data removed]",
      "text/plain": [
       "<Figure size 432x288 with 1 Axes>"
      ]
     },
     "metadata": {
      "needs_background": "light"
     },
     "output_type": "display_data"
    }
   ],
   "source": [
    "from sklearn.neighbors import KNeighborsClassifier\n",
    "\n",
    "# Before perfoming K-fold Cross Validation, I will loop through 'k' to find the optimal 'k' for K-Nearest Neighbors.\n",
    "\n",
    "accuracies = []\n",
    "for k in range(1,101):\n",
    "    knn = KNeighborsClassifier(n_neighbors = k)\n",
    "    knn.fit(X_train, y_train)\n",
    "    accuracies.append(knn.score(X_test, y_test))\n",
    "\n",
    "# Plotting the results.\n",
    "\n",
    "k_list = range(1,101)\n",
    "plt.plot(k_list, accuracies)\n",
    "plt.xlabel('k')\n",
    "plt.ylabel('Validation Accuracy')\n",
    "plt.title('Accuracy Scores')\n",
    "plt.show()"
   ]
  },
  {
   "cell_type": "markdown",
   "metadata": {},
   "source": [
    "#### The optimal k is 8 with a 79.99% accuracy rate."
   ]
  },
  {
   "cell_type": "code",
   "execution_count": 36,
   "metadata": {},
   "outputs": [
    {
     "name": "stdout",
     "output_type": "stream",
     "text": [
      "Fold: 0\n",
      "CV train shape: (40699, 7)\n",
      "CV test shape: (4523, 7)\n",
      "Fold: 1\n",
      "CV train shape: (40699, 7)\n",
      "CV test shape: (4523, 7)\n",
      "Fold: 2\n",
      "CV train shape: (40700, 7)\n",
      "CV test shape: (4522, 7)\n",
      "Fold: 3\n",
      "CV train shape: (40700, 7)\n",
      "CV test shape: (4522, 7)\n",
      "Fold: 4\n",
      "CV train shape: (40700, 7)\n",
      "CV test shape: (4522, 7)\n",
      "Fold: 5\n",
      "CV train shape: (40700, 7)\n",
      "CV test shape: (4522, 7)\n",
      "Fold: 6\n",
      "CV train shape: (40700, 7)\n",
      "CV test shape: (4522, 7)\n",
      "Fold: 7\n",
      "CV train shape: (40700, 7)\n",
      "CV test shape: (4522, 7)\n",
      "Fold: 8\n",
      "CV train shape: (40700, 7)\n",
      "CV test shape: (4522, 7)\n",
      "Fold: 9\n",
      "CV train shape: (40700, 7)\n",
      "CV test shape: (4522, 7)\n",
      "[81.05239885032059, 79.57108114083573, 80.25210084033614, 80.7828394515701, 81.29146395400265, 79.08005307386112, 79.76559044670499, 79.30119416187527, 79.8982750995135, 79.1906236178682]\n"
     ]
    }
   ],
   "source": [
    "knn_scores = []\n",
    "cv = KFold(n_splits = 10, shuffle = True, random_state = 42)\n",
    "fold = 0\n",
    "for train_index, test_index in cv.split(X):\n",
    "    cv_X_train, cv_X_test = X.iloc[train_index], X.iloc[test_index]\n",
    "    cv_y_train, cv_y_test = y.iloc[train_index], y.iloc[test_index]\n",
    "    knn_8 = KNeighborsClassifier(n_neighbors = 8)\n",
    "    model4 = knn_8.fit(cv_X_train, cv_y_train)\n",
    "    print('Fold: {}'.format(fold))\n",
    "    print('CV train shape: {}'.format(cv_X_train.shape))\n",
    "    print('CV test shape: {}'.format(cv_X_test.shape))\n",
    "    fold += 1\n",
    "    knn_scores.append(accuracy_score(cv_y_test, model4.predict(cv_X_test)) * 100)\n",
    "\n",
    "print(knn_scores)"
   ]
  },
  {
   "cell_type": "code",
   "execution_count": 37,
   "metadata": {},
   "outputs": [
    {
     "data": {
      "image/png": "[encoded data removed]",
      "text/plain": [
       "<Figure size 432x288 with 1 Axes>"
      ]
     },
     "metadata": {
      "needs_background": "light"
     },
     "output_type": "display_data"
    },
    {
     "name": "stdout",
     "output_type": "stream",
     "text": [
      "The highest accuracy score is 81.29%.\n"
     ]
    }
   ],
   "source": [
    "# Let's visualize the trend for each accuracy score.\n",
    "\n",
    "k_folds = range(1,11)\n",
    "plt.plot(k_folds, knn_scores, marker = 'o')\n",
    "plt.ylim(75,85)\n",
    "plt.xticks(range(1,11))\n",
    "plt.xlabel('k')\n",
    "plt.title('Accuracy Scores')\n",
    "plt.show()\n",
    "print('The highest accuracy score is ' + str(round(max(knn_scores), 2)) + '%.')"
   ]
  },
  {
   "cell_type": "markdown",
   "metadata": {},
   "source": [
    "#### We have used 4 different algorithms to compare accuracy rates. Let's convert all accuracy scores into a data frame so we can get a nice visual and to compare all in one graph."
   ]
  },
  {
   "cell_type": "markdown",
   "metadata": {},
   "source": [
    "## Part 4: Results"
   ]
  },
  {
   "cell_type": "code",
   "execution_count": 43,
   "metadata": {},
   "outputs": [
    {
     "data": {
      "text/html": [
       "<div>\n",
       "<style scoped>\n",
       "    .dataframe tbody tr th:only-of-type {\n",
       "        vertical-align: middle;\n",
       "    }\n",
       "\n",
       "    .dataframe tbody tr th {\n",
       "        vertical-align: top;\n",
       "    }\n",
       "\n",
       "    .dataframe thead th {\n",
       "        text-align: right;\n",
       "    }\n",
       "</style>\n",
       "<table border=\"1\" class=\"dataframe\">\n",
       "  <thead>\n",
       "    <tr style=\"text-align: right;\">\n",
       "      <th></th>\n",
       "      <th>k-fold</th>\n",
       "      <th>Logistic Regression</th>\n",
       "      <th>Decision Tree</th>\n",
       "      <th>SVM</th>\n",
       "      <th>KNN</th>\n",
       "    </tr>\n",
       "  </thead>\n",
       "  <tbody>\n",
       "    <tr>\n",
       "      <th>0</th>\n",
       "      <td>1</td>\n",
       "      <td>75.635640</td>\n",
       "      <td>78.952023</td>\n",
       "      <td>82.401061</td>\n",
       "      <td>81.052399</td>\n",
       "    </tr>\n",
       "    <tr>\n",
       "      <th>1</th>\n",
       "      <td>2</td>\n",
       "      <td>74.839708</td>\n",
       "      <td>78.178200</td>\n",
       "      <td>80.543887</td>\n",
       "      <td>79.571081</td>\n",
       "    </tr>\n",
       "    <tr>\n",
       "      <th>2</th>\n",
       "      <td>3</td>\n",
       "      <td>74.259177</td>\n",
       "      <td>78.748341</td>\n",
       "      <td>80.804954</td>\n",
       "      <td>80.252101</td>\n",
       "    </tr>\n",
       "    <tr>\n",
       "      <th>3</th>\n",
       "      <td>4</td>\n",
       "      <td>75.519682</td>\n",
       "      <td>77.753207</td>\n",
       "      <td>81.777974</td>\n",
       "      <td>80.782839</td>\n",
       "    </tr>\n",
       "    <tr>\n",
       "      <th>4</th>\n",
       "      <td>5</td>\n",
       "      <td>76.249447</td>\n",
       "      <td>79.146395</td>\n",
       "      <td>81.247236</td>\n",
       "      <td>81.291464</td>\n",
       "    </tr>\n",
       "    <tr>\n",
       "      <th>5</th>\n",
       "      <td>6</td>\n",
       "      <td>74.259177</td>\n",
       "      <td>77.266696</td>\n",
       "      <td>80.340557</td>\n",
       "      <td>79.080053</td>\n",
       "    </tr>\n",
       "    <tr>\n",
       "      <th>6</th>\n",
       "      <td>7</td>\n",
       "      <td>74.524547</td>\n",
       "      <td>78.659885</td>\n",
       "      <td>81.092437</td>\n",
       "      <td>79.765590</td>\n",
       "    </tr>\n",
       "    <tr>\n",
       "      <th>7</th>\n",
       "      <td>8</td>\n",
       "      <td>75.254312</td>\n",
       "      <td>78.306059</td>\n",
       "      <td>79.986732</td>\n",
       "      <td>79.301194</td>\n",
       "    </tr>\n",
       "    <tr>\n",
       "      <th>8</th>\n",
       "      <td>9</td>\n",
       "      <td>76.293675</td>\n",
       "      <td>78.018576</td>\n",
       "      <td>80.893410</td>\n",
       "      <td>79.898275</td>\n",
       "    </tr>\n",
       "    <tr>\n",
       "      <th>9</th>\n",
       "      <td>10</td>\n",
       "      <td>73.883238</td>\n",
       "      <td>78.306059</td>\n",
       "      <td>80.782839</td>\n",
       "      <td>79.190624</td>\n",
       "    </tr>\n",
       "  </tbody>\n",
       "</table>\n",
       "</div>"
      ],
      "text/plain": [
       "   k-fold  Logistic Regression  Decision Tree        SVM        KNN\n",
       "0       1            75.635640      78.952023  82.401061  81.052399\n",
       "1       2            74.839708      78.178200  80.543887  79.571081\n",
       "2       3            74.259177      78.748341  80.804954  80.252101\n",
       "3       4            75.519682      77.753207  81.777974  80.782839\n",
       "4       5            76.249447      79.146395  81.247236  81.291464\n",
       "5       6            74.259177      77.266696  80.340557  79.080053\n",
       "6       7            74.524547      78.659885  81.092437  79.765590\n",
       "7       8            75.254312      78.306059  79.986732  79.301194\n",
       "8       9            76.293675      78.018576  80.893410  79.898275\n",
       "9      10            73.883238      78.306059  80.782839  79.190624"
      ]
     },
     "execution_count": 43,
     "metadata": {},
     "output_type": "execute_result"
    }
   ],
   "source": [
    "# Combine accuracy rates from algorithms into one data frame. \n",
    "\n",
    "results = {'k-fold':range(1,11), 'Logistic Regression':scores, 'Decision Tree':tree_scores, \n",
    "           'SVM':svm_scores, 'KNN':knn_scores}\n",
    "results_df = pd.DataFrame(results)\n",
    "results_df"
   ]
  },
  {
   "cell_type": "code",
   "execution_count": 50,
   "metadata": {},
   "outputs": [
    {
     "data": {
      "image/png": "[encoded data removed]",
      "text/plain": [
       "<Figure size 432x288 with 1 Axes>"
      ]
     },
     "metadata": {
      "needs_background": "light"
     },
     "output_type": "display_data"
    }
   ],
   "source": [
    "plt.plot(results_df['k-fold'], results_df['Logistic Regression'], label = 'Logistic Regression')\n",
    "plt.plot(results_df['k-fold'], results_df['Decision Tree'], label = 'Decision Tree')\n",
    "plt.plot(results_df['k-fold'], results_df['SVM'], label = 'SVM')\n",
    "plt.plot(results_df['k-fold'], results_df['KNN'], label = 'KNN')\n",
    "plt.legend()\n",
    "plt.ylim(70,85)\n",
    "plt.xticks(range(1,11))\n",
    "plt.title('Accuracy Rates from Each Algorithm')\n",
    "plt.xlabel('ML Algorithm')\n",
    "plt.show()"
   ]
  },
  {
   "cell_type": "code",
   "execution_count": 54,
   "metadata": {},
   "outputs": [
    {
     "data": {
      "text/html": [
       "<div>\n",
       "<style scoped>\n",
       "    .dataframe tbody tr th:only-of-type {\n",
       "        vertical-align: middle;\n",
       "    }\n",
       "\n",
       "    .dataframe tbody tr th {\n",
       "        vertical-align: top;\n",
       "    }\n",
       "\n",
       "    .dataframe thead th {\n",
       "        text-align: right;\n",
       "    }\n",
       "</style>\n",
       "<table border=\"1\" class=\"dataframe\">\n",
       "  <thead>\n",
       "    <tr style=\"text-align: right;\">\n",
       "      <th></th>\n",
       "      <th>Logistic Regression</th>\n",
       "      <th>Decision Tree</th>\n",
       "      <th>SVM</th>\n",
       "      <th>KNN</th>\n",
       "    </tr>\n",
       "  </thead>\n",
       "  <tbody>\n",
       "    <tr>\n",
       "      <th>count</th>\n",
       "      <td>10.000000</td>\n",
       "      <td>10.000000</td>\n",
       "      <td>10.000000</td>\n",
       "      <td>10.000000</td>\n",
       "    </tr>\n",
       "    <tr>\n",
       "      <th>mean</th>\n",
       "      <td>75.071860</td>\n",
       "      <td>78.333544</td>\n",
       "      <td>80.987109</td>\n",
       "      <td>80.018562</td>\n",
       "    </tr>\n",
       "    <tr>\n",
       "      <th>std</th>\n",
       "      <td>0.851039</td>\n",
       "      <td>0.569757</td>\n",
       "      <td>0.699397</td>\n",
       "      <td>0.794939</td>\n",
       "    </tr>\n",
       "    <tr>\n",
       "      <th>min</th>\n",
       "      <td>73.883238</td>\n",
       "      <td>77.266696</td>\n",
       "      <td>79.986732</td>\n",
       "      <td>79.080053</td>\n",
       "    </tr>\n",
       "    <tr>\n",
       "      <th>25%</th>\n",
       "      <td>74.325520</td>\n",
       "      <td>78.058482</td>\n",
       "      <td>80.603625</td>\n",
       "      <td>79.368666</td>\n",
       "    </tr>\n",
       "    <tr>\n",
       "      <th>50%</th>\n",
       "      <td>75.047010</td>\n",
       "      <td>78.306059</td>\n",
       "      <td>80.849182</td>\n",
       "      <td>79.831933</td>\n",
       "    </tr>\n",
       "    <tr>\n",
       "      <th>75%</th>\n",
       "      <td>75.606650</td>\n",
       "      <td>78.726227</td>\n",
       "      <td>81.208536</td>\n",
       "      <td>80.650155</td>\n",
       "    </tr>\n",
       "    <tr>\n",
       "      <th>max</th>\n",
       "      <td>76.293675</td>\n",
       "      <td>79.146395</td>\n",
       "      <td>82.401061</td>\n",
       "      <td>81.291464</td>\n",
       "    </tr>\n",
       "  </tbody>\n",
       "</table>\n",
       "</div>"
      ],
      "text/plain": [
       "       Logistic Regression  Decision Tree        SVM        KNN\n",
       "count            10.000000      10.000000  10.000000  10.000000\n",
       "mean             75.071860      78.333544  80.987109  80.018562\n",
       "std               0.851039       0.569757   0.699397   0.794939\n",
       "min              73.883238      77.266696  79.986732  79.080053\n",
       "25%              74.325520      78.058482  80.603625  79.368666\n",
       "50%              75.047010      78.306059  80.849182  79.831933\n",
       "75%              75.606650      78.726227  81.208536  80.650155\n",
       "max              76.293675      79.146395  82.401061  81.291464"
      ]
     },
     "execution_count": 54,
     "metadata": {},
     "output_type": "execute_result"
    }
   ],
   "source": [
    "results_df[['Logistic Regression', 'Decision Tree', 'SVM', 'KNN']].describe()"
   ]
  },
  {
   "cell_type": "markdown",
   "metadata": {},
   "source": [
    "#### Support Vector Machine performed the best with an average accuracy rate at approximately 81% and 82.4% was the highest accuracy rate with a 10 fold cross validation. Logistic Regression has the lowest average accuracy rate of 75%. One thing I could've done to obtain an even higher accuracy rate is too loop through different values of the Gamma parameter with the Support Vector Machine model."
   ]
  }
 ],
 "metadata": {
  "kernelspec": {
   "display_name": "Python 3",
   "language": "python",
   "name": "python3"
  },
  "language_info": {
   "codemirror_mode": {
    "name": "ipython",
    "version": 3
   },
   "file_extension": ".py",
   "mimetype": "text/x-python",
   "name": "python",
   "nbconvert_exporter": "python",
   "pygments_lexer": "ipython3",
   "version": "3.7.3"
  }
 },
 "nbformat": 4,
 "nbformat_minor": 2
}
